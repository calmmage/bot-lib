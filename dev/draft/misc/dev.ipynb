{
 "cells": [
  {
   "cell_type": "code",
   "id": "initial_id",
   "metadata": {
    "collapsed": true,
    "ExecuteTime": {
     "end_time": "2024-08-25T01:31:27.045060Z",
     "start_time": "2024-08-25T01:31:27.042607Z"
    }
   },
   "source": "print(1)",
   "outputs": [
    {
     "name": "stdout",
     "output_type": "stream",
     "text": [
      "1\n"
     ]
    }
   ],
   "execution_count": 1
  },
  {
   "metadata": {
    "ExecuteTime": {
     "end_time": "2024-08-25T01:32:20.738199Z",
     "start_time": "2024-08-25T01:32:20.733690Z"
    }
   },
   "cell_type": "code",
   "source": [
    "from enum import Enum\n",
    "class State(Enum):\n",
    "    Any = 'any'\n",
    "    Finish = 'finish'\n",
    "    \n",
    "my_state = State.Any\n",
    "    "
   ],
   "id": "57fde3a12d077d1d",
   "outputs": [],
   "execution_count": 2
  },
  {
   "metadata": {
    "ExecuteTime": {
     "end_time": "2024-08-25T01:32:28.027391Z",
     "start_time": "2024-08-25T01:32:28.025247Z"
    }
   },
   "cell_type": "code",
   "source": "print(my_state is State.Any)",
   "id": "d48a4bf67c4c88ee",
   "outputs": [
    {
     "name": "stdout",
     "output_type": "stream",
     "text": [
      "True\n"
     ]
    }
   ],
   "execution_count": 3
  },
  {
   "metadata": {
    "ExecuteTime": {
     "end_time": "2024-08-25T01:34:10.764435Z",
     "start_time": "2024-08-25T01:34:10.759972Z"
    }
   },
   "cell_type": "code",
   "source": [
    "from dev.draft.misc.lib2 import my_state\n",
    "from dev.draft.misc.lib3 import check_state\n",
    "print(check_state(my_state))"
   ],
   "id": "97e59a9170b21bd8",
   "outputs": [
    {
     "name": "stdout",
     "output_type": "stream",
     "text": [
      "True\n"
     ]
    }
   ],
   "execution_count": 4
  },
  {
   "metadata": {
    "ExecuteTime": {
     "end_time": "2024-08-25T01:34:37.320262Z",
     "start_time": "2024-08-25T01:34:37.318112Z"
    }
   },
   "cell_type": "code",
   "source": "print(check_state(State.Any))",
   "id": "1e1ca8720c347eb5",
   "outputs": [
    {
     "name": "stdout",
     "output_type": "stream",
     "text": [
      "False\n"
     ]
    }
   ],
   "execution_count": 5
  },
  {
   "metadata": {},
   "cell_type": "code",
   "outputs": [],
   "execution_count": null,
   "source": "",
   "id": "cc95473b186b3e12"
  }
 ],
 "metadata": {
  "kernelspec": {
   "display_name": "Python 3",
   "language": "python",
   "name": "python3"
  },
  "language_info": {
   "codemirror_mode": {
    "name": "ipython",
    "version": 2
   },
   "file_extension": ".py",
   "mimetype": "text/x-python",
   "name": "python",
   "nbconvert_exporter": "python",
   "pygments_lexer": "ipython2",
   "version": "2.7.6"
  }
 },
 "nbformat": 4,
 "nbformat_minor": 5
}
